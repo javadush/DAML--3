{
 "cells": [
  {
   "cell_type": "code",
   "execution_count": 6,
   "id": "8ef4e3a0-7001-479a-a1a7-a223e8bcb1e3",
   "metadata": {},
   "outputs": [
    {
     "name": "stdout",
     "output_type": "stream",
     "text": [
      "First few rows of the dataset:\n",
      "  brand_name                      model  price  rating  has_5g  has_nfc  \\\n",
      "0    oneplus              OnePlus 11 5G  54999    89.0    True     True   \n",
      "1    oneplus  OnePlus Nord CE 2 Lite 5G  19989    81.0    True    False   \n",
      "2    samsung      Samsung Galaxy A14 5G  16499    75.0    True    False   \n",
      "3   motorola       Motorola Moto G62 5G  14999    81.0    True    False   \n",
      "4     realme         Realme 10 Pro Plus  24999    82.0    True    False   \n",
      "\n",
      "   has_ir_blaster processor_brand  num_cores  processor_speed  ...  \\\n",
      "0           False      snapdragon        8.0              3.2  ...   \n",
      "1           False      snapdragon        8.0              2.2  ...   \n",
      "2           False          exynos        8.0              2.4  ...   \n",
      "3           False      snapdragon        8.0              2.2  ...   \n",
      "4           False       dimensity        8.0              2.6  ...   \n",
      "\n",
      "   refresh_rate  num_rear_cameras  num_front_cameras       os  \\\n",
      "0           120                 3                1.0  android   \n",
      "1           120                 3                1.0  android   \n",
      "2            90                 3                1.0  android   \n",
      "3           120                 3                1.0  android   \n",
      "4           120                 3                1.0  android   \n",
      "\n",
      "   primary_camera_rear  primary_camera_front  extended_memory_available  \\\n",
      "0                 50.0                  16.0                          0   \n",
      "1                 64.0                  16.0                          1   \n",
      "2                 50.0                  13.0                          1   \n",
      "3                 50.0                  16.0                          1   \n",
      "4                108.0                  16.0                          0   \n",
      "\n",
      "   extended_upto  resolution_width resolution_height  \n",
      "0            NaN              1440              3216  \n",
      "1         1024.0              1080              2412  \n",
      "2         1024.0              1080              2408  \n",
      "3         1024.0              1080              2400  \n",
      "4            NaN              1080              2412  \n",
      "\n",
      "[5 rows x 26 columns]\n",
      "\n",
      "Missing values in each column:\n",
      "brand_name                     0\n",
      "model                          0\n",
      "price                          0\n",
      "rating                       101\n",
      "has_5g                         0\n",
      "has_nfc                        0\n",
      "has_ir_blaster                 0\n",
      "processor_brand               20\n",
      "num_cores                      6\n",
      "processor_speed               42\n",
      "battery_capacity              11\n",
      "fast_charging_available        0\n",
      "fast_charging                211\n",
      "ram_capacity                   0\n",
      "internal_memory                0\n",
      "screen_size                    0\n",
      "refresh_rate                   0\n",
      "num_rear_cameras               0\n",
      "num_front_cameras              4\n",
      "os                            14\n",
      "primary_camera_rear            0\n",
      "primary_camera_front           5\n",
      "extended_memory_available      0\n",
      "extended_upto                480\n",
      "resolution_width               0\n",
      "resolution_height              0\n",
      "dtype: int64\n"
     ]
    }
   ],
   "source": [
    "import pandas as pd\n",
    "import numpy as np\n",
    "from sklearn.model_selection import train_test_split\n",
    "from sklearn.preprocessing import LabelEncoder\n",
    "from sklearn.impute import SimpleImputer\n",
    "from sklearn.linear_model import LinearRegression\n",
    "from sklearn.ensemble import RandomForestRegressor\n",
    "from sklearn.metrics import mean_squared_error, r2_score\n",
    "import joblib\n",
    "\n",
    "# Load the dataset\n",
    "file_path = r\"D:\\Mobile data analytics\\smartphones_cleaned_v6.csv\"\n",
    "data = pd.read_csv(file_path)\n",
    "\n",
    "# Display the first few rows of the dataset\n",
    "print(\"First few rows of the dataset:\")\n",
    "print(data.head())\n",
    "\n",
    "# Check for missing values\n",
    "print(\"\\nMissing values in each column:\")\n",
    "print(data.isnull().sum())\n"
   ]
  },
  {
   "cell_type": "code",
   "execution_count": 7,
   "id": "a510f45a-6b69-4df6-9d8f-9f58e7bd46d4",
   "metadata": {},
   "outputs": [
    {
     "name": "stdout",
     "output_type": "stream",
     "text": [
      "\n",
      "Missing values after imputation:\n",
      "brand_name                   0\n",
      "model                        0\n",
      "price                        0\n",
      "rating                       0\n",
      "has_5g                       0\n",
      "has_nfc                      0\n",
      "has_ir_blaster               0\n",
      "processor_brand              0\n",
      "num_cores                    0\n",
      "processor_speed              0\n",
      "battery_capacity             0\n",
      "fast_charging_available      0\n",
      "fast_charging                0\n",
      "ram_capacity                 0\n",
      "internal_memory              0\n",
      "screen_size                  0\n",
      "refresh_rate                 0\n",
      "num_rear_cameras             0\n",
      "num_front_cameras            0\n",
      "os                           0\n",
      "primary_camera_rear          0\n",
      "primary_camera_front         0\n",
      "extended_memory_available    0\n",
      "extended_upto                0\n",
      "resolution_width             0\n",
      "resolution_height            0\n",
      "dtype: int64\n",
      "\n",
      "Encoded dataset:\n",
      "   brand_name  model  price  rating  has_5g  has_nfc  has_ir_blaster  \\\n",
      "0          29    307  54999    89.0       1        1               0   \n",
      "1          29    327  19989    81.0       1        0               0   \n",
      "2          36    532  16499    75.0       1        0               0   \n",
      "3          25    198  14999    81.0       1        0               0   \n",
      "4          33    415  24999    82.0       1        0               0   \n",
      "\n",
      "   processor_brand  num_cores  processor_speed  ...  refresh_rate  \\\n",
      "0                9        8.0              3.2  ...           120   \n",
      "1                9        8.0              2.2  ...           120   \n",
      "2                2        8.0              2.4  ...            90   \n",
      "3                9        8.0              2.2  ...           120   \n",
      "4                1        8.0              2.6  ...           120   \n",
      "\n",
      "   num_rear_cameras  num_front_cameras  os  primary_camera_rear  \\\n",
      "0                 3                1.0   0                 50.0   \n",
      "1                 3                1.0   0                 64.0   \n",
      "2                 3                1.0   0                 50.0   \n",
      "3                 3                1.0   0                 50.0   \n",
      "4                 3                1.0   0                108.0   \n",
      "\n",
      "   primary_camera_front  extended_memory_available  extended_upto  \\\n",
      "0                  16.0                          0        736.064   \n",
      "1                  16.0                          1       1024.000   \n",
      "2                  13.0                          1       1024.000   \n",
      "3                  16.0                          1       1024.000   \n",
      "4                  16.0                          0        736.064   \n",
      "\n",
      "   resolution_width  resolution_height  \n",
      "0              1440               3216  \n",
      "1              1080               2412  \n",
      "2              1080               2408  \n",
      "3              1080               2400  \n",
      "4              1080               2412  \n",
      "\n",
      "[5 rows x 26 columns]\n"
     ]
    }
   ],
   "source": [
    "# Handle missing values\n",
    "# Impute numerical columns with the mean value\n",
    "numerical_columns = ['rating', 'num_cores', 'processor_speed', 'battery_capacity',\n",
    "                     'fast_charging', 'num_front_cameras', 'primary_camera_front', 'extended_upto']\n",
    "imputer_num = SimpleImputer(strategy='mean')\n",
    "data[numerical_columns] = imputer_num.fit_transform(data[numerical_columns])\n",
    "\n",
    "# Impute categorical columns with the most frequent value\n",
    "categorical_columns = ['brand_name', 'model', 'processor_brand', 'os', \n",
    "                       'has_5g', 'has_nfc', 'has_ir_blaster', 'fast_charging_available', \n",
    "                       'extended_memory_available']\n",
    "imputer_cat = SimpleImputer(strategy='most_frequent')\n",
    "data[categorical_columns] = imputer_cat.fit_transform(data[categorical_columns])\n",
    "\n",
    "# Verify that there are no more missing values\n",
    "print(\"\\nMissing values after imputation:\")\n",
    "print(data.isnull().sum())\n",
    "\n",
    "# Encode categorical columns\n",
    "laenc = LabelEncoder()\n",
    "for col in categorical_columns:\n",
    "    data[col] = laenc.fit_transform(data[col])\n",
    "\n",
    "# Display the first few rows of the encoded dataset\n",
    "print(\"\\nEncoded dataset:\")\n",
    "print(data.head())\n"
   ]
  },
  {
   "cell_type": "code",
   "execution_count": 8,
   "id": "f40c45ad-d5e3-4cc4-adfc-e0285689c694",
   "metadata": {},
   "outputs": [
    {
     "name": "stdout",
     "output_type": "stream",
     "text": [
      "\n",
      "Training features shape: (735, 25)\n",
      "Test features shape: (245, 25)\n",
      "Training labels shape: (735,)\n",
      "Test labels shape: (245,)\n"
     ]
    }
   ],
   "source": [
    "# Define features (X) and target (y)\n",
    "X = data.drop('rating', axis=1).values\n",
    "y = data['rating'].values\n",
    "\n",
    "# Split the data into training and testing sets\n",
    "X_train, X_test, y_train, y_test = train_test_split(X, y, test_size=0.25, random_state=0)\n",
    "\n",
    "# Verify the split\n",
    "print(f\"\\nTraining features shape: {X_train.shape}\")\n",
    "print(f\"Test features shape: {X_test.shape}\")\n",
    "print(f\"Training labels shape: {y_train.shape}\")\n",
    "print(f\"Test labels shape: {y_test.shape}\")\n"
   ]
  },
  {
   "cell_type": "code",
   "execution_count": 9,
   "id": "19ae7a53-5c23-45cd-aa8f-5300b96cf725",
   "metadata": {},
   "outputs": [
    {
     "name": "stdout",
     "output_type": "stream",
     "text": [
      "\n",
      "Linear Regression Results:\n",
      "Mean Squared Error: 19.84285727962079\n",
      "R-squared: 0.5850114322295614\n"
     ]
    }
   ],
   "source": [
    "# Train Linear Regression model\n",
    "lin_reg = LinearRegression()\n",
    "lin_reg.fit(X_train, y_train)\n",
    "\n",
    "# Predict using Linear Regression\n",
    "y_pred_lr = lin_reg.predict(X_test)\n",
    "\n",
    "# Evaluate Linear Regression\n",
    "print(\"\\nLinear Regression Results:\")\n",
    "print(\"Mean Squared Error:\", mean_squared_error(y_test, y_pred_lr))\n",
    "print(\"R-squared:\", r2_score(y_test, y_pred_lr))\n"
   ]
  },
  {
   "cell_type": "code",
   "execution_count": 10,
   "id": "c520a96d-353c-4126-be99-29619dca75b7",
   "metadata": {},
   "outputs": [
    {
     "name": "stdout",
     "output_type": "stream",
     "text": [
      "\n",
      "Random Forest Regressor Results:\n",
      "Mean Squared Error: 9.587951090610533\n",
      "R-squared: 0.7994799823999178\n"
     ]
    }
   ],
   "source": [
    "# Train Random Forest Regressor\n",
    "rf_reg = RandomForestRegressor(max_depth=10, random_state=0)\n",
    "rf_reg.fit(X_train, y_train)\n",
    "\n",
    "# Predict using Random Forest Regressor\n",
    "y_pred_rf = rf_reg.predict(X_test)\n",
    "\n",
    "# Evaluate Random Forest Regressor\n",
    "print(\"\\nRandom Forest Regressor Results:\")\n",
    "print(\"Mean Squared Error:\", mean_squared_error(y_test, y_pred_rf))\n",
    "print(\"R-squared:\", r2_score(y_test, y_pred_rf))\n"
   ]
  },
  {
   "cell_type": "code",
   "execution_count": 11,
   "id": "a5fb4505-8789-4eaf-8628-03bae8fa34d8",
   "metadata": {},
   "outputs": [
    {
     "data": {
      "text/plain": [
       "['D:\\\\Mobile data analytics\\\\random_forest_regressor_model.pkl']"
      ]
     },
     "execution_count": 11,
     "metadata": {},
     "output_type": "execute_result"
    }
   ],
   "source": [
    "# Save Linear Regression model\n",
    "joblib.dump(lin_reg, r\"D:\\Mobile data analytics\\linear_regression_model.pkl\")\n",
    "\n",
    "# Save Random Forest Regressor model\n",
    "joblib.dump(rf_reg, r\"D:\\Mobile data analytics\\random_forest_regressor_model.pkl\")\n",
    "\n",
    "# Load models (optional)\n",
    "# linear_regression_model = joblib.load(r\"D:\\Mobile data analytics\\linear_regression_model.pkl\")\n",
    "# random_forest_regressor_model = joblib.load(r\"D:\\Mobile data analytics\\random_forest_regressor_model.pkl\")\n"
   ]
  }
 ],
 "metadata": {
  "kernelspec": {
   "display_name": "Python 3 (ipykernel)",
   "language": "python",
   "name": "python3"
  },
  "language_info": {
   "codemirror_mode": {
    "name": "ipython",
    "version": 3
   },
   "file_extension": ".py",
   "mimetype": "text/x-python",
   "name": "python",
   "nbconvert_exporter": "python",
   "pygments_lexer": "ipython3",
   "version": "3.11.7"
  }
 },
 "nbformat": 4,
 "nbformat_minor": 5
}
